{
 "cells": [
  {
   "cell_type": "code",
   "execution_count": 1,
   "id": "a8c71ccc",
   "metadata": {},
   "outputs": [],
   "source": [
    "import pandas as pd"
   ]
  },
  {
   "cell_type": "code",
   "execution_count": 2,
   "id": "da1de69e",
   "metadata": {},
   "outputs": [],
   "source": [
    "song_lake = pd.read_csv('song_lake_clustered.csv')\n",
    "song_lake = song_lake.drop(['Unnamed: 0'],axis=1)     #;song_lake"
   ]
  },
  {
   "cell_type": "code",
   "execution_count": 3,
   "id": "21ea954e",
   "metadata": {},
   "outputs": [],
   "source": [
    "hot100 = pd.read_csv('tmp_hot100.csv')                #;hot100"
   ]
  },
  {
   "cell_type": "code",
   "execution_count": 4,
   "id": "f8dad620",
   "metadata": {},
   "outputs": [],
   "source": [
    "features = pd.read_csv('features_scaled.csv')\n",
    "features = features.drop(['Unnamed: 0'],axis=1)       #;features"
   ]
  },
  {
   "cell_type": "code",
   "execution_count": 5,
   "id": "8c784266",
   "metadata": {},
   "outputs": [],
   "source": [
    "import spotipy\n",
    "from spotipy.oauth2 import SpotifyClientCredentials\n",
    "secrets_file = open(\"secrets.txt\",\"r\")\n",
    "string = secrets_file.read()\n",
    "secrets_dict={}\n",
    "for line in string.split('\\n'):\n",
    "    if len(line) > 0:\n",
    "        secrets_dict[line.split(':')[0]]=line.split(':')[1]\n",
    "sp = spotipy.Spotify(auth_manager=SpotifyClientCredentials(client_id=secrets_dict['cid'],\n",
    "                                                           client_secret=secrets_dict['csecret']))"
   ]
  },
  {
   "cell_type": "code",
   "execution_count": 6,
   "id": "dacd39ff",
   "metadata": {},
   "outputs": [],
   "source": [
    "import pickle\n",
    "scaler = pickle.load(open('standardscaler.pkl','rb')) # load the scaling model\n",
    "kmeans = pickle.load(open('kmeans.pkl','rb'))         # load the clustering model"
   ]
  },
  {
   "cell_type": "code",
   "execution_count": 7,
   "id": "b0d8daf8",
   "metadata": {},
   "outputs": [],
   "source": [
    "def features(track, artist):\n",
    "    track_id = sp.search(q='artist:' + artist + ' track:' + track, type='track')\n",
    "    uri = track_id[\"tracks\"][\"items\"][0]['id']\n",
    "    features = sp.audio_features(uri)\n",
    "    return features\n"
   ]
  },
  {
   "cell_type": "code",
   "execution_count": 8,
   "id": "166b5ebf",
   "metadata": {},
   "outputs": [
    {
     "name": "stdout",
     "output_type": "stream",
     "text": [
      "Song recommender | version 1.0\n",
      "==============================\n",
      "What's your most favorite song?  Serenade\n",
      "Artist or group: Franz Schubert\n",
      "Our recommendation from the same style [0]\n",
      "Song name:  It's My Life - 1997 Remaster\n",
      "Artist name: Talk Talk\n",
      "Link to the song https://open.spotify.com/track/4jhsuQCUCJKA5f0bXb6XdJ\n",
      "Listen 30 seconds: https://p.scdn.co/mp3-preview/88114f34b988daf22d4e1dda080492981a06c9a2?cid=07f6ced08f1944d49d4357a8e338da91\n"
     ]
    }
   ],
   "source": [
    "import random\n",
    "\n",
    "print('Song recommender | version 1.0')\n",
    "print('==============================')\n",
    "song_in = input(\"What's your most favorite song?  \").title()\n",
    "artist_in = input('Artist or group: ').title()\n",
    "\n",
    "collected = sp.search(q=song_in, type='track')\n",
    "found = collected[\"tracks\"][\"total\"] \n",
    "\n",
    "while found == 0:\n",
    "    print(\"Can't find the song, try another\")\n",
    "    song_in = input(\"Enter song: \").title()\n",
    "    artist_in = input(\"Enter artist or group: \").title()\n",
    "    collected = sp.search(q=song_in, type='track')\n",
    "    found = collected[\"tracks\"][\"total\"]\n",
    "\n",
    "if song_in in list(hot100['song']):\n",
    "    pick_one_hot = random.choice(list(hot100['song']))\n",
    "    while pick_one_hot == song_in:\n",
    "            pick_one_hot = random.choice(list(hot100['song']))\n",
    "            print('We recommend:', pick_one_hot)\n",
    "else:\n",
    "    feature = features(song_in, artist_in)\n",
    "    column = list(feature[0].keys())\n",
    "    values = [list(feature[0].values())]\n",
    "    song_in_df = pd.DataFrame(data = feature, columns = column)\n",
    "    song_in_df = song_in_df.drop(['type','id','uri','track_href','analysis_url','time_signature'],axis=1)\n",
    "    song_in_scaled = scaler.transform(song_in_df)\n",
    "    new_clust = kmeans.predict(song_in_scaled)\n",
    "    df_clust = song_lake[song_lake['clust'] == list(new_clust)[0]]\n",
    "\n",
    "    pick_one = random.choice(list(df_clust['trackid']))\n",
    "    #url = df_clust['url'][df_clust['trackid'] == pick_one].values[0]\n",
    "\n",
    "    track_info = sp.track(pick_one)\n",
    "    print('Our recommendation from the same style', new_clust)\n",
    "    print('Song name: ',track_info['name'])\n",
    "    print('Artist name:',track_info['artists'][0]['name'])\n",
    "    print('Link to the song',track_info['external_urls']['spotify'])\n",
    "    print('Listen 30 seconds:',track_info['preview_url'])"
   ]
  }
 ],
 "metadata": {
  "kernelspec": {
   "display_name": "Python 3",
   "language": "python",
   "name": "python3"
  },
  "language_info": {
   "codemirror_mode": {
    "name": "ipython",
    "version": 3
   },
   "file_extension": ".py",
   "mimetype": "text/x-python",
   "name": "python",
   "nbconvert_exporter": "python",
   "pygments_lexer": "ipython3",
   "version": "3.8.8"
  }
 },
 "nbformat": 4,
 "nbformat_minor": 5
}
